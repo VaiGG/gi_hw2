{
 "cells": [
  {
   "cell_type": "code",
   "execution_count": 1,
   "id": "turkish-place",
   "metadata": {},
   "outputs": [
    {
     "name": "stdout",
     "output_type": "stream",
     "text": [
      "<pysam.libcalignmentfile.AlignmentFile object at 0x10828c5e0>\n",
      "<pysam.libcalignmentfile.IteratorRowAll object at 0x10a3629a0>\n",
      "1187\n",
      "0\n",
      "Total number of reads =  2921629\n",
      "Total number of unmapped reads =  17765\n",
      "Total number of reads with mapping_quality 0 =  126628\n",
      "Avg map quality =  55.91379158681681\n",
      "Avg mapping quality if reads with 0 are filtereed out =  58.446975510921106\n"
     ]
    }
   ],
   "source": [
    "#!/usr/bin/env python3\n",
    "\n",
    "import pysam\n",
    "import requests\n",
    "\n",
    "import os\n",
    "os.system(\"ls\")\n",
    "\n",
    "save = pysam.set_verbosity(0)\n",
    "samfile = pysam.AlignmentFile(\"merged-tumor.bam\", \"rb\")\n",
    "pysam.set_verbosity(save)\n",
    "print(samfile)\n",
    "\n",
    "\n",
    "iter1 = samfile.fetch(until_eof=True)\n",
    "print(iter1)\n",
    "\n",
    "total = 0\n",
    "unmapped = 0\n",
    "mapping_quality = 0\n",
    "total_mapping_quality = 0\n",
    "\n",
    "i = 0\n",
    "j = 0\n",
    "for read in samfile.fetch(until_eof=True):\n",
    "     total += 1\n",
    "     second = int(int(read.flag) / 4) % 2\n",
    "     if second == 1:\n",
    "            unmapped += 1\n",
    "     if read.mapping_quality == 0:\n",
    "        mapping_quality += 1\n",
    "     else:\n",
    "        i +=1\n",
    "        j+= read.mapping_quality\n",
    "     if total == 1:\n",
    "        print(read.flag)\n",
    "        print(second)\n",
    "     total_mapping_quality += read.mapping_quality\n",
    "average_mapping_quality = total_mapping_quality / total\n",
    "avg_filtered = j / i\n",
    "        \n",
    "print(\"Total number of reads = \", total)\n",
    "print(\"Total number of unmapped reads = \", unmapped)\n",
    "print(\"Total number of reads with mapping_quality 0 = \", mapping_quality)\n",
    "print(\"Avg map quality = \", average_mapping_quality)\n",
    "print(\"Avg mapping quality if reads with 0 are filtereed out = \", avg_filtered)\n",
    "\n",
    "\n",
    "samfile.close()\n",
    "\n",
    "\n"
   ]
  },
  {
   "cell_type": "code",
   "execution_count": null,
   "id": "cutting-parent",
   "metadata": {},
   "outputs": [],
   "source": []
  }
 ],
 "metadata": {
  "kernelspec": {
   "display_name": "Python 3",
   "language": "python",
   "name": "python3"
  },
  "language_info": {
   "codemirror_mode": {
    "name": "ipython",
    "version": 3
   },
   "file_extension": ".py",
   "mimetype": "text/x-python",
   "name": "python",
   "nbconvert_exporter": "python",
   "pygments_lexer": "ipython3",
   "version": "3.9.0"
  }
 },
 "nbformat": 4,
 "nbformat_minor": 5
}
